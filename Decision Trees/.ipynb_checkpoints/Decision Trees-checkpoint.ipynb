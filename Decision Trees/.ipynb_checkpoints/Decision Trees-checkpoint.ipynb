{
 "cells": [
  {
   "cell_type": "code",
   "execution_count": 7,
   "metadata": {
    "collapsed": false
   },
   "outputs": [
    {
     "data": {
      "text/html": [
       "<div>\n",
       "<table border=\"1\" class=\"dataframe\">\n",
       "  <thead>\n",
       "    <tr style=\"text-align: right;\">\n",
       "      <th></th>\n",
       "      <th>grade</th>\n",
       "      <th>bumpiness</th>\n",
       "      <th>speed limit</th>\n",
       "      <th>speed</th>\n",
       "    </tr>\n",
       "  </thead>\n",
       "  <tbody>\n",
       "    <tr>\n",
       "      <th>0</th>\n",
       "      <td>steep</td>\n",
       "      <td>bumpy</td>\n",
       "      <td>yes</td>\n",
       "      <td>slow</td>\n",
       "    </tr>\n",
       "    <tr>\n",
       "      <th>1</th>\n",
       "      <td>steep</td>\n",
       "      <td>smooth</td>\n",
       "      <td>yes</td>\n",
       "      <td>slow</td>\n",
       "    </tr>\n",
       "    <tr>\n",
       "      <th>2</th>\n",
       "      <td>flat</td>\n",
       "      <td>bumpy</td>\n",
       "      <td>no</td>\n",
       "      <td>fast</td>\n",
       "    </tr>\n",
       "    <tr>\n",
       "      <th>3</th>\n",
       "      <td>steep</td>\n",
       "      <td>smooth</td>\n",
       "      <td>no</td>\n",
       "      <td>fast</td>\n",
       "    </tr>\n",
       "  </tbody>\n",
       "</table>\n",
       "</div>"
      ],
      "text/plain": [
       "   grade bumpiness speed limit speed\n",
       "0  steep     bumpy         yes  slow\n",
       "1  steep    smooth         yes  slow\n",
       "2   flat     bumpy          no  fast\n",
       "3  steep    smooth          no  fast"
      ]
     },
     "metadata": {},
     "output_type": "display_data"
    }
   ],
   "source": [
    "import numpy\n",
    "import pandas\n",
    "from IPython.display import display\n",
    "import csv\n",
    "import math\n",
    "from __future__ import division\n",
    "\n",
    "road_data = 'road_data.csv'\n",
    "road_file = pandas.read_csv(road_data)\n",
    "\n",
    "display(road_file.head())"
   ]
  },
  {
   "cell_type": "code",
   "execution_count": 8,
   "metadata": {
    "collapsed": true
   },
   "outputs": [],
   "source": [
    "#the entropy of the parent is 1\n",
    "entropy_parent = 1.0"
   ]
  },
  {
   "cell_type": "code",
   "execution_count": 17,
   "metadata": {
    "collapsed": false
   },
   "outputs": [
    {
     "name": "stdout",
     "output_type": "stream",
     "text": [
      "entropy is 0.918295834054.\n",
      "entropy of the grade children is -0.688721875541.\n",
      "if we split based on grade, the information gain is 0.311278124459.\n"
     ]
    }
   ],
   "source": [
    "#decision tree split on grade\n",
    "\n",
    "p_slow = 2/3\n",
    "p_fast = 1/3\n",
    "\n",
    "entropy = - p_slow*math.log(p_slow,2) - p_fast*math.log(p_fast,2)\n",
    "print \"entropy is %s.\" % entropy\n",
    "\n",
    "entropy_children = - 3/4*entropy - 1/4*0\n",
    "print \"entropy of the grade children is %s.\" % entropy_children\n",
    "\n",
    "information_gain = 1 + entropy_children\n",
    "\n",
    "print \"if we split based on grade, the information gain is %s.\" % information_gain"
   ]
  },
  {
   "cell_type": "code",
   "execution_count": null,
   "metadata": {
    "collapsed": true
   },
   "outputs": [],
   "source": [
    "#decision tree split on bumpiness\n",
    "\n",
    "entropy_bumpy = 1.0\n",
    "entropy_smooth = 1.0\n",
    "\n",
    "information_gain = 0.0\n",
    "\n",
    "#we do not learn anything by splitting on bumpiness"
   ]
  },
  {
   "cell_type": "code",
   "execution_count": null,
   "metadata": {
    "collapsed": true
   },
   "outputs": [],
   "source": [
    "#decision tree split on speed limit\n",
    "\n",
    "information_gain = 1.0\n",
    "\n",
    "#started with an entropy of 1 and end with an entropy of 0"
   ]
  }
 ],
 "metadata": {
  "kernelspec": {
   "display_name": "Python 2",
   "language": "python",
   "name": "python2"
  },
  "language_info": {
   "codemirror_mode": {
    "name": "ipython",
    "version": 2
   },
   "file_extension": ".py",
   "mimetype": "text/x-python",
   "name": "python",
   "nbconvert_exporter": "python",
   "pygments_lexer": "ipython2",
   "version": "2.7.12"
  }
 },
 "nbformat": 4,
 "nbformat_minor": 0
}
