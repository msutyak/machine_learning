{
 "cells": [
  {
   "cell_type": "code",
   "execution_count": 2,
   "metadata": {
    "collapsed": false
   },
   "outputs": [
    {
     "name": "stdout",
     "output_type": "stream",
     "text": [
      "3.0\n",
      "3.0\n",
      "1.41421356237\n",
      "   age   fare       name survived?\n",
      "a   22   7.25     Braund     False\n",
      "b   38  71.83    Cumming      True\n",
      "c   26    NaN  Heikkinen      True\n",
      "d   35   8.05      Allen     False\n"
     ]
    }
   ],
   "source": [
    "import numpy\n",
    "import pandas\n",
    "\n",
    "numbers = [1,2,3,4,5]\n",
    "\n",
    "mean = numpy.mean(numbers)\n",
    "median = numpy.median(numbers)\n",
    "std = numpy.std(numbers)\n",
    "\n",
    "print mean\n",
    "print median\n",
    "print std\n",
    "\n",
    "d = {'name': pandas.Series(['Braund', 'Cumming', 'Heikkinen', 'Allen'], index=['a','b', 'c', 'd']), 'age': pandas.Series([22,38,26,35], index=['a','b','c','d']), 'fare': pandas.Series([7.25, 71.83, 8.05], index=['a', 'b', 'd']), 'survived?': pandas.Series([False, True, True, False], index=['a','b','c','d'])}\n",
    "\n",
    "df = pandas.DataFrame(d)\n",
    "\n",
    "print df"
   ]
  },
  {
   "cell_type": "code",
   "execution_count": 3,
   "metadata": {
    "collapsed": false,
    "scrolled": true
   },
   "outputs": [
    {
     "data": {
      "text/html": [
       "<div>\n",
       "<table border=\"1\" class=\"dataframe\">\n",
       "  <thead>\n",
       "    <tr style=\"text-align: right;\">\n",
       "      <th></th>\n",
       "      <th>Rank</th>\n",
       "      <th>NOC</th>\n",
       "      <th>Gold</th>\n",
       "      <th>Silver</th>\n",
       "      <th>Bronze</th>\n",
       "      <th>Total</th>\n",
       "    </tr>\n",
       "  </thead>\n",
       "  <tbody>\n",
       "    <tr>\n",
       "      <th>0</th>\n",
       "      <td>1</td>\n",
       "      <td>Russia (RUS)</td>\n",
       "      <td>13</td>\n",
       "      <td>11</td>\n",
       "      <td>9</td>\n",
       "      <td>33</td>\n",
       "    </tr>\n",
       "    <tr>\n",
       "      <th>1</th>\n",
       "      <td>2</td>\n",
       "      <td>Norway (NOR)</td>\n",
       "      <td>11</td>\n",
       "      <td>5</td>\n",
       "      <td>10</td>\n",
       "      <td>26</td>\n",
       "    </tr>\n",
       "    <tr>\n",
       "      <th>2</th>\n",
       "      <td>3</td>\n",
       "      <td>Canada (CAN)</td>\n",
       "      <td>10</td>\n",
       "      <td>10</td>\n",
       "      <td>5</td>\n",
       "      <td>25</td>\n",
       "    </tr>\n",
       "    <tr>\n",
       "      <th>3</th>\n",
       "      <td>4</td>\n",
       "      <td>United States (USA)</td>\n",
       "      <td>9</td>\n",
       "      <td>7</td>\n",
       "      <td>12</td>\n",
       "      <td>28</td>\n",
       "    </tr>\n",
       "    <tr>\n",
       "      <th>4</th>\n",
       "      <td>5</td>\n",
       "      <td>Netherlands (NED)</td>\n",
       "      <td>8</td>\n",
       "      <td>7</td>\n",
       "      <td>9</td>\n",
       "      <td>24</td>\n",
       "    </tr>\n",
       "  </tbody>\n",
       "</table>\n",
       "</div>"
      ],
      "text/plain": [
       "   Rank                  NOC  Gold  Silver  Bronze  Total\n",
       "0     1         Russia (RUS)    13      11       9     33\n",
       "1     2         Norway (NOR)    11       5      10     26\n",
       "2     3         Canada (CAN)    10      10       5     25\n",
       "3     4  United States (USA)     9       7      12     28\n",
       "4     5    Netherlands (NED)     8       7       9     24"
      ]
     },
     "metadata": {},
     "output_type": "display_data"
    },
    {
     "name": "stdout",
     "output_type": "stream",
     "text": [
      "['Russia (RUS)', 'Norway (NOR)', 'Canada (CAN)', 'United States (USA)', 'Netherlands (NED)', 'Germany (GER)', 'Switzerland (SUI)', 'Belarus (BLR)', 'Austria (AUT)', 'France (FRA)', 'Poland (POL)', 'China (CHN)', 'South Korea (KOR)', 'Sweden (SWE)', 'Czech Republic (CZE)', 'Slovenia (SLO)', 'Japan (JPN)', 'Finland (FIN)', 'Great Britain (GBR)', 'Ukraine (UKR)', 'Slovakia (SVK)', 'Italy (ITA)', 'Latvia (LAT)', 'Australia (AUS)', 'Croatia (CRO)', 'Kazakhstan (KAZ)']\n",
      "    bronze             countries  gold  silver\n",
      "0        9          Russia (RUS)    13      11\n",
      "1       10          Norway (NOR)    11       5\n",
      "2        5          Canada (CAN)    10      10\n",
      "3       12   United States (USA)     9       7\n",
      "4        9     Netherlands (NED)     8       7\n",
      "5        5         Germany (GER)     8       6\n",
      "6        2     Switzerland (SUI)     6       3\n",
      "7        1         Belarus (BLR)     5       0\n",
      "8        5         Austria (AUT)     4       8\n",
      "9        7          France (FRA)     4       4\n",
      "10       1          Poland (POL)     4       1\n",
      "11       2           China (CHN)     3       4\n",
      "12       2     South Korea (KOR)     3       3\n",
      "13       6          Sweden (SWE)     2       7\n",
      "14       2  Czech Republic (CZE)     2       4\n",
      "15       4        Slovenia (SLO)     2       2\n",
      "16       3           Japan (JPN)     1       4\n",
      "17       1         Finland (FIN)     1       3\n",
      "18       2   Great Britain (GBR)     1       1\n",
      "19       1         Ukraine (UKR)     1       0\n",
      "20       0        Slovakia (SVK)     1       0\n",
      "21       6           Italy (ITA)     0       2\n",
      "22       2          Latvia (LAT)     0       2\n",
      "23       1       Australia (AUS)     0       2\n",
      "24       0         Croatia (CRO)     0       1\n",
      "25       1      Kazakhstan (KAZ)     0       0\n"
     ]
    }
   ],
   "source": [
    "from IPython.display import display\n",
    "import csv\n",
    "\n",
    "# Load the dataset\n",
    "in_file = 'sochi_olympics.csv'\n",
    "full_data = pandas.read_csv(in_file)\n",
    "\n",
    "# Print the first few entries of the RMS Titanic data\n",
    "display(full_data.head())\n",
    "\n",
    "countries = full_data['NOC']\n",
    "gold = full_data['Gold']\n",
    "silver = full_data['Silver']\n",
    "bronze = full_data['Bronze']\n",
    "\n",
    "print countries.tolist()\n",
    "\n",
    "d = {'countries': pandas.Series(countries.tolist()), 'gold': pandas.Series(gold.tolist()), 'silver': pandas.Series(silver.tolist()), 'bronze': pandas.Series(bronze.tolist())}\n",
    "df = pandas.DataFrame(d)\n",
    "\n",
    "print df"
   ]
  },
  {
   "cell_type": "code",
   "execution_count": 4,
   "metadata": {
    "collapsed": false
   },
   "outputs": [
    {
     "name": "stdout",
     "output_type": "stream",
     "text": [
      "               countries  gold\n",
      "0           Russia (RUS)    13\n",
      "1           Norway (NOR)    11\n",
      "2           Canada (CAN)    10\n",
      "3    United States (USA)     9\n",
      "4      Netherlands (NED)     8\n",
      "5          Germany (GER)     8\n",
      "6      Switzerland (SUI)     6\n",
      "7          Belarus (BLR)     5\n",
      "8          Austria (AUT)     4\n",
      "9           France (FRA)     4\n",
      "10          Poland (POL)     4\n",
      "11           China (CHN)     3\n",
      "12     South Korea (KOR)     3\n",
      "13          Sweden (SWE)     2\n",
      "14  Czech Republic (CZE)     2\n",
      "15        Slovenia (SLO)     2\n",
      "16           Japan (JPN)     1\n",
      "17         Finland (FIN)     1\n",
      "18   Great Britain (GBR)     1\n",
      "19         Ukraine (UKR)     1\n",
      "20        Slovakia (SVK)     1\n",
      "21           Italy (ITA)     0\n",
      "22          Latvia (LAT)     0\n",
      "23       Australia (AUS)     0\n",
      "24         Croatia (CRO)     0\n",
      "25      Kazakhstan (KAZ)     0\n"
     ]
    }
   ],
   "source": [
    "print df[['countries', 'gold']]\n"
   ]
  },
  {
   "cell_type": "code",
   "execution_count": 5,
   "metadata": {
    "collapsed": false
   },
   "outputs": [
    {
     "name": "stdout",
     "output_type": "stream",
     "text": [
      "bronze                          2\n",
      "countries    Czech Republic (CZE)\n",
      "gold                            2\n",
      "silver                          4\n",
      "Name: 14, dtype: object\n"
     ]
    }
   ],
   "source": [
    "print df.loc[14]"
   ]
  },
  {
   "cell_type": "code",
   "execution_count": 6,
   "metadata": {
    "collapsed": false,
    "scrolled": true
   },
   "outputs": [
    {
     "name": "stdout",
     "output_type": "stream",
     "text": [
      "   bronze            countries  gold  silver\n",
      "0       9         Russia (RUS)    13      11\n",
      "1      10         Norway (NOR)    11       5\n",
      "2       5         Canada (CAN)    10      10\n",
      "3      12  United States (USA)     9       7\n",
      "4       9    Netherlands (NED)     8       7\n",
      "5       5        Germany (GER)     8       6\n",
      "6       2    Switzerland (SUI)     6       3\n"
     ]
    }
   ],
   "source": [
    "print df[df['gold']>5]"
   ]
  },
  {
   "cell_type": "code",
   "execution_count": 7,
   "metadata": {
    "collapsed": false
   },
   "outputs": [
    {
     "name": "stdout",
     "output_type": "stream",
     "text": [
      "0           Russia (RUS)\n",
      "1           Norway (NOR)\n",
      "2           Canada (CAN)\n",
      "3    United States (USA)\n",
      "4      Netherlands (NED)\n",
      "5          Germany (GER)\n",
      "6      Switzerland (SUI)\n",
      "Name: countries, dtype: object\n"
     ]
    }
   ],
   "source": [
    "print df['countries'][df['gold']>5]"
   ]
  },
  {
   "cell_type": "code",
   "execution_count": 8,
   "metadata": {
    "collapsed": false
   },
   "outputs": [
    {
     "data": {
      "text/plain": [
       "0      True\n",
       "1      True\n",
       "2      True\n",
       "3      True\n",
       "4      True\n",
       "5      True\n",
       "6      True\n",
       "7      True\n",
       "8     False\n",
       "9     False\n",
       "10    False\n",
       "11    False\n",
       "12    False\n",
       "13    False\n",
       "14    False\n",
       "15    False\n",
       "16    False\n",
       "17    False\n",
       "18    False\n",
       "19    False\n",
       "20    False\n",
       "21    False\n",
       "22    False\n",
       "23    False\n",
       "24    False\n",
       "25    False\n",
       "Name: gold, dtype: bool"
      ]
     },
     "execution_count": 8,
     "metadata": {},
     "output_type": "execute_result"
    }
   ],
   "source": [
    "df['gold'].map(lambda x: x>=5)"
   ]
  },
  {
   "cell_type": "code",
   "execution_count": 9,
   "metadata": {
    "collapsed": false
   },
   "outputs": [
    {
     "name": "stdout",
     "output_type": "stream",
     "text": [
      "0      9\n",
      "1     10\n",
      "2      5\n",
      "3     12\n",
      "4      9\n",
      "5      5\n",
      "6      2\n",
      "7      1\n",
      "8      5\n",
      "9      7\n",
      "10     1\n",
      "11     2\n",
      "12     2\n",
      "13     6\n",
      "14     2\n",
      "15     4\n",
      "16     3\n",
      "17     1\n",
      "18     2\n",
      "19     1\n",
      "20     0\n",
      "Name: bronze, dtype: int64\n",
      "4.2380952381\n"
     ]
    }
   ],
   "source": [
    "bronze_at_least_one_gold = df['bronze'][df['gold'] >= 1]\n",
    "print bronze_at_least_one_gold\n",
    "\n",
    "avg_bronze_at_least_one_gold = numpy.mean(bronze_at_least_one_gold)\n",
    "print avg_bronze_at_least_one_gold"
   ]
  },
  {
   "cell_type": "code",
   "execution_count": 10,
   "metadata": {
    "collapsed": false
   },
   "outputs": [
    {
     "name": "stdout",
     "output_type": "stream",
     "text": [
      "    bronze  silver  gold\n",
      "0        9      11    13\n",
      "1       10       5    11\n",
      "2        5      10    10\n",
      "3       12       7     9\n",
      "4        9       7     8\n",
      "5        5       6     8\n",
      "6        2       3     6\n",
      "7        1       0     5\n",
      "8        5       8     4\n",
      "9        7       4     4\n",
      "10       1       1     4\n",
      "11       2       4     3\n",
      "12       2       3     3\n",
      "13       6       7     2\n",
      "14       2       4     2\n",
      "15       4       2     2\n",
      "16       3       4     1\n",
      "17       1       3     1\n",
      "18       2       1     1\n",
      "19       1       0     1\n",
      "20       0       0     1\n",
      "21       6       2     0\n",
      "22       2       2     0\n",
      "23       1       2     0\n",
      "24       0       1     0\n",
      "25       1       0     0\n",
      "bronze    3.807692\n",
      "silver    3.730769\n",
      "gold      3.807692\n",
      "dtype: float64\n"
     ]
    }
   ],
   "source": [
    "at_least_one_medal = df[['bronze', 'silver', 'gold']][df['gold'] + df['silver'] + df['bronze'] >= 1]\n",
    "mean_df = at_least_one_medal.apply(numpy.mean)\n",
    "\n",
    "print at_least_one_medal\n",
    "print mean_df"
   ]
  },
  {
   "cell_type": "code",
   "execution_count": 32,
   "metadata": {
    "collapsed": false,
    "scrolled": true
   },
   "outputs": [
    {
     "name": "stdout",
     "output_type": "stream",
     "text": [
      "               countries  points\n",
      "0           Russia (RUS)      83\n",
      "1           Norway (NOR)      64\n",
      "2           Canada (CAN)      65\n",
      "3    United States (USA)      62\n",
      "4      Netherlands (NED)      55\n",
      "5          Germany (GER)      49\n",
      "6      Switzerland (SUI)      32\n",
      "7          Belarus (BLR)      21\n",
      "8          Austria (AUT)      37\n",
      "9           France (FRA)      31\n",
      "10          Poland (POL)      19\n",
      "11           China (CHN)      22\n",
      "12     South Korea (KOR)      20\n",
      "13          Sweden (SWE)      28\n",
      "14  Czech Republic (CZE)      18\n",
      "15        Slovenia (SLO)      16\n",
      "16           Japan (JPN)      15\n",
      "17         Finland (FIN)      11\n",
      "18   Great Britain (GBR)       8\n",
      "19         Ukraine (UKR)       5\n",
      "20        Slovakia (SVK)       4\n",
      "21           Italy (ITA)      10\n",
      "22          Latvia (LAT)       6\n",
      "23       Australia (AUS)       5\n",
      "24         Croatia (CRO)       2\n",
      "25      Kazakhstan (KAZ)       1\n"
     ]
    }
   ],
   "source": [
    "points = [4, 2, 1]\n",
    "score = df[['gold','silver','bronze']].dot(points)\n",
    "countries = df['countries']\n",
    "\n",
    "olympic_points = {'countries': pandas.Series(countries), 'points': pandas.Series(score)}\n",
    "olympic_points_df = pandas.DataFrame(olympic_points)\n",
    "\n",
    "print olympic_points_df"
   ]
  },
  {
   "cell_type": "code",
   "execution_count": null,
   "metadata": {
    "collapsed": true
   },
   "outputs": [],
   "source": []
  },
  {
   "cell_type": "code",
   "execution_count": null,
   "metadata": {
    "collapsed": true
   },
   "outputs": [],
   "source": []
  },
  {
   "cell_type": "code",
   "execution_count": null,
   "metadata": {
    "collapsed": true
   },
   "outputs": [],
   "source": []
  },
  {
   "cell_type": "code",
   "execution_count": null,
   "metadata": {
    "collapsed": true
   },
   "outputs": [],
   "source": []
  },
  {
   "cell_type": "code",
   "execution_count": null,
   "metadata": {
    "collapsed": true
   },
   "outputs": [],
   "source": []
  }
 ],
 "metadata": {
  "kernelspec": {
   "display_name": "Python 2",
   "language": "python",
   "name": "python2"
  },
  "language_info": {
   "codemirror_mode": {
    "name": "ipython",
    "version": 2
   },
   "file_extension": ".py",
   "mimetype": "text/x-python",
   "name": "python",
   "nbconvert_exporter": "python",
   "pygments_lexer": "ipython2",
   "version": "2.7.12"
  }
 },
 "nbformat": 4,
 "nbformat_minor": 0
}
